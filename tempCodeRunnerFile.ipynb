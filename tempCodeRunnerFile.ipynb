data_departamental = terridata[(terridata["Departamento"] == terridata["Entidad"]) & (terridata["Código Entidad"] % 1000 == 0)]
