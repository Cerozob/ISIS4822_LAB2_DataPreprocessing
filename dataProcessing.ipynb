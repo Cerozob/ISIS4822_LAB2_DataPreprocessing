{
 "cells": [
  {
   "cell_type": "markdown",
   "metadata": {},
   "source": [
    "# ISIS 4822 - Laboratorio 2\n",
    "\n",
    "Hernán Cuy - 202010199\n",
    "\n",
    "Camilo Rozo - 201820147\n",
    "\n",
    "---\n",
    "\n",
    "## Preprocesamiento de datos\n",
    "\n",
    "---"
   ]
  },
  {
   "cell_type": "markdown",
   "metadata": {},
   "source": [
    "### Load dataset"
   ]
  },
  {
   "cell_type": "code",
   "execution_count": 17,
   "metadata": {},
   "outputs": [],
   "source": [
    "import pandas as pd\n",
    "import numpy as np\n",
    "from pathlib import Path\n",
    "import json\n",
    "\n",
    "\n",
    "def converter(obj):\n",
    "    if isinstance(obj, np.integer | np.int64 | np.int32 | np.int16 | np.int8):\n",
    "        return int(obj)\n",
    "    elif isinstance(obj, np.floating | np.float64 | np.float32 | np.float16):\n",
    "        return float(obj)\n",
    "    elif isinstance(obj, np.ndarray):\n",
    "        return obj.tolist()\n",
    "    elif isinstance(obj, np.bool_):\n",
    "        return bool(obj)\n",
    "    elif isinstance(obj, np.str_):\n",
    "        return str(obj)\n",
    "    elif isinstance(obj, np.void):\n",
    "        return None\n",
    "    return obj\n",
    "\n",
    "terridata_filename = \"TerriData_Dim4.csv\"\n",
    "\n",
    "data_path = Path('data')\n",
    "\n",
    "sources_path = data_path.joinpath(\"sources\")\n",
    "\n",
    "terridata_path = sources_path.joinpath(terridata_filename)\n",
    "\n",
    "terridata = pd.read_csv(terridata_path,encoding='utf-8')"
   ]
  },
  {
   "cell_type": "markdown",
   "metadata": {},
   "source": [
    "### Typify dataset to JSON-valid values"
   ]
  },
  {
   "cell_type": "code",
   "execution_count": 18,
   "metadata": {},
   "outputs": [],
   "source": [
    "\n",
    "def transform_datatypes(df: pd.DataFrame) -> pd.DataFrame:\n",
    "    df[\"Departamento\"]=df[\"Departamento\"].astype('str') \n",
    "    df[\"Entidad\"]=df[\"Entidad\"].astype('str')\n",
    "    df[\"Dimensión\"]=df[\"Dimensión\"].astype('str')\n",
    "    df[\"Subcategoría\"]=df[\"Subcategoría\"].astype('str') \n",
    "    df[\"Indicador\"]=df[\"Indicador\"].astype('str')\n",
    "    df[\"Dato Numérico\"] = df[\"Dato Numérico\"].apply(lambda x: float(str(x).replace(\",\", \".\")) if x is not None else None)\n",
    "    df[\"Dato Cualitativo\"]=df[\"Dato Cualitativo\"].astype('str')\n",
    "    df[\"Fuente\"]=df[\"Fuente\"].astype('str')\n",
    "    df[\"Unidad de Medida\"]=df[\"Unidad de Medida\"].astype('str') \n",
    "    return df\n",
    "\n",
    "terridata = transform_datatypes(terridata)"
   ]
  },
  {
   "cell_type": "markdown",
   "metadata": {},
   "source": [
    "### View resulting dataset"
   ]
  },
  {
   "cell_type": "code",
   "execution_count": 19,
   "metadata": {},
   "outputs": [
    {
     "name": "stdout",
     "output_type": "stream",
     "text": [
      "<class 'pandas.core.frame.DataFrame'>\n",
      "RangeIndex: 291756 entries, 0 to 291755\n",
      "Data columns (total 13 columns):\n",
      " #   Column               Non-Null Count   Dtype  \n",
      "---  ------               --------------   -----  \n",
      " 0   Código Departamento  291756 non-null  int64  \n",
      " 1   Departamento         291756 non-null  object \n",
      " 2   Código Entidad       291756 non-null  int64  \n",
      " 3   Entidad              291756 non-null  object \n",
      " 4   Dimensión            291756 non-null  object \n",
      " 5   Subcategoría         291756 non-null  object \n",
      " 6   Indicador            291756 non-null  object \n",
      " 7   Dato Numérico        269714 non-null  float64\n",
      " 8   Dato Cualitativo     291756 non-null  object \n",
      " 9   Año                  291756 non-null  int64  \n",
      " 10  Mes                  291756 non-null  int64  \n",
      " 11  Fuente               291756 non-null  object \n",
      " 12  Unidad de Medida     291756 non-null  object \n",
      "dtypes: float64(1), int64(4), object(8)\n",
      "memory usage: 28.9+ MB\n"
     ]
    }
   ],
   "source": [
    "terridata.info()"
   ]
  },
  {
   "cell_type": "code",
   "execution_count": 20,
   "metadata": {},
   "outputs": [
    {
     "data": {
      "text/html": [
       "<div>\n",
       "<style scoped>\n",
       "    .dataframe tbody tr th:only-of-type {\n",
       "        vertical-align: middle;\n",
       "    }\n",
       "\n",
       "    .dataframe tbody tr th {\n",
       "        vertical-align: top;\n",
       "    }\n",
       "\n",
       "    .dataframe thead th {\n",
       "        text-align: right;\n",
       "    }\n",
       "</style>\n",
       "<table border=\"1\" class=\"dataframe\">\n",
       "  <thead>\n",
       "    <tr style=\"text-align: right;\">\n",
       "      <th></th>\n",
       "      <th>Código Departamento</th>\n",
       "      <th>Departamento</th>\n",
       "      <th>Código Entidad</th>\n",
       "      <th>Entidad</th>\n",
       "      <th>Dimensión</th>\n",
       "      <th>Subcategoría</th>\n",
       "      <th>Indicador</th>\n",
       "      <th>Dato Numérico</th>\n",
       "      <th>Dato Cualitativo</th>\n",
       "      <th>Año</th>\n",
       "      <th>Mes</th>\n",
       "      <th>Fuente</th>\n",
       "      <th>Unidad de Medida</th>\n",
       "    </tr>\n",
       "  </thead>\n",
       "  <tbody>\n",
       "    <tr>\n",
       "      <th>0</th>\n",
       "      <td>1</td>\n",
       "      <td>Colombia</td>\n",
       "      <td>1001</td>\n",
       "      <td>Colombia</td>\n",
       "      <td>Educación</td>\n",
       "      <td>Acceso a la educación</td>\n",
       "      <td>Cobertura bruta en transición</td>\n",
       "      <td>95.42</td>\n",
       "      <td>nan</td>\n",
       "      <td>2005</td>\n",
       "      <td>12</td>\n",
       "      <td>Ministerio de Educación Nacional</td>\n",
       "      <td>Porcentaje (el valor está multiplicado por 100)</td>\n",
       "    </tr>\n",
       "    <tr>\n",
       "      <th>1</th>\n",
       "      <td>5</td>\n",
       "      <td>Antioquia</td>\n",
       "      <td>5000</td>\n",
       "      <td>Antioquia</td>\n",
       "      <td>Educación</td>\n",
       "      <td>Acceso a la educación</td>\n",
       "      <td>Cobertura bruta en transición</td>\n",
       "      <td>78.62</td>\n",
       "      <td>nan</td>\n",
       "      <td>2005</td>\n",
       "      <td>12</td>\n",
       "      <td>Ministerio de Educación Nacional</td>\n",
       "      <td>Porcentaje (el valor está multiplicado por 100)</td>\n",
       "    </tr>\n",
       "    <tr>\n",
       "      <th>2</th>\n",
       "      <td>5</td>\n",
       "      <td>Antioquia</td>\n",
       "      <td>5001</td>\n",
       "      <td>Medellín</td>\n",
       "      <td>Educación</td>\n",
       "      <td>Acceso a la educación</td>\n",
       "      <td>Cobertura bruta en transición</td>\n",
       "      <td>103.23</td>\n",
       "      <td>nan</td>\n",
       "      <td>2005</td>\n",
       "      <td>12</td>\n",
       "      <td>Ministerio de Educación Nacional</td>\n",
       "      <td>Porcentaje (el valor está multiplicado por 100)</td>\n",
       "    </tr>\n",
       "    <tr>\n",
       "      <th>3</th>\n",
       "      <td>5</td>\n",
       "      <td>Antioquia</td>\n",
       "      <td>5002</td>\n",
       "      <td>Abejorral</td>\n",
       "      <td>Educación</td>\n",
       "      <td>Acceso a la educación</td>\n",
       "      <td>Cobertura bruta en transición</td>\n",
       "      <td>51.80</td>\n",
       "      <td>nan</td>\n",
       "      <td>2005</td>\n",
       "      <td>12</td>\n",
       "      <td>Ministerio de Educación Nacional</td>\n",
       "      <td>Porcentaje (el valor está multiplicado por 100)</td>\n",
       "    </tr>\n",
       "    <tr>\n",
       "      <th>4</th>\n",
       "      <td>5</td>\n",
       "      <td>Antioquia</td>\n",
       "      <td>5004</td>\n",
       "      <td>Abriaquí</td>\n",
       "      <td>Educación</td>\n",
       "      <td>Acceso a la educación</td>\n",
       "      <td>Cobertura bruta en transición</td>\n",
       "      <td>96.00</td>\n",
       "      <td>nan</td>\n",
       "      <td>2005</td>\n",
       "      <td>12</td>\n",
       "      <td>Ministerio de Educación Nacional</td>\n",
       "      <td>Porcentaje (el valor está multiplicado por 100)</td>\n",
       "    </tr>\n",
       "  </tbody>\n",
       "</table>\n",
       "</div>"
      ],
      "text/plain": [
       "   Código Departamento Departamento  Código Entidad    Entidad  Dimensión  \\\n",
       "0                    1     Colombia            1001   Colombia  Educación   \n",
       "1                    5    Antioquia            5000  Antioquia  Educación   \n",
       "2                    5    Antioquia            5001   Medellín  Educación   \n",
       "3                    5    Antioquia            5002  Abejorral  Educación   \n",
       "4                    5    Antioquia            5004   Abriaquí  Educación   \n",
       "\n",
       "            Subcategoría                      Indicador  Dato Numérico  \\\n",
       "0  Acceso a la educación  Cobertura bruta en transición          95.42   \n",
       "1  Acceso a la educación  Cobertura bruta en transición          78.62   \n",
       "2  Acceso a la educación  Cobertura bruta en transición         103.23   \n",
       "3  Acceso a la educación  Cobertura bruta en transición          51.80   \n",
       "4  Acceso a la educación  Cobertura bruta en transición          96.00   \n",
       "\n",
       "  Dato Cualitativo   Año  Mes                            Fuente  \\\n",
       "0              nan  2005   12  Ministerio de Educación Nacional   \n",
       "1              nan  2005   12  Ministerio de Educación Nacional   \n",
       "2              nan  2005   12  Ministerio de Educación Nacional   \n",
       "3              nan  2005   12  Ministerio de Educación Nacional   \n",
       "4              nan  2005   12  Ministerio de Educación Nacional   \n",
       "\n",
       "                                  Unidad de Medida  \n",
       "0  Porcentaje (el valor está multiplicado por 100)  \n",
       "1  Porcentaje (el valor está multiplicado por 100)  \n",
       "2  Porcentaje (el valor está multiplicado por 100)  \n",
       "3  Porcentaje (el valor está multiplicado por 100)  \n",
       "4  Porcentaje (el valor está multiplicado por 100)  "
      ]
     },
     "execution_count": 20,
     "metadata": {},
     "output_type": "execute_result"
    }
   ],
   "source": [
    "terridata.head()"
   ]
  },
  {
   "cell_type": "markdown",
   "metadata": {},
   "source": [
    "### Process the dataset according to the tasks"
   ]
  },
  {
   "cell_type": "markdown",
   "metadata": {},
   "source": [
    "_\"El Ministerio de Educación quiere utilizar estos datos para verificar la evolución de la calidad de la educación primaria y secundaria en el país en los últimos 12 años e identificar las regiones geográficas con mayor cobertura e incidencia de la educación en estos mismos periodos.\"_"
   ]
  },
  {
   "cell_type": "markdown",
   "metadata": {},
   "source": [
    "Tareas identificadas:\n",
    "\n",
    "1. verificar la evolución de la calidad de la educación primaria y secundaria en el país en los últimos 12 años.\n",
    "2. identificar las regiones geográficas con mayor cobertura e incidencia de la educación en estos mismos periodos.\n",
    "\n",
    "|Observación|Acción|Justificación|\n",
    "|:---|:---|:---|\n",
    "|Período de los últimos 12 años|**Eliminar** años previos a **2010** |La información no será usada para ninguna tarea |\n",
    "|Un objetivo es ver cobertura|**Conservar** indicadores relacionados a la subcategoría **\"Acceso a la educación\"**|Muy probablemente la visualización usará estos datos|\n",
    "|Ambos objetivos hacen énfasis en geografía |**Dividir** el dataset por **territorio** en lugar de subcategorías e indicadores |Visualizar información a nivel país y a nivel regional requiere segregación territorial|\n",
    "|La temporalidad es anual|**Eliminar Mes**|no es necesario|\n",
    "|El dataset tiene una única dimensión|**Eliminar Dimensión**| no es necesaria por tener un único valor|\n",
    "|Las métricas son numéricas|**Eliminar Dato Cualitativo**|no es necesaria por tener un único valor|\n",
    "|Los indicadores dan toda la información necesaria sobre el dato|**Eliminar Subcategoría**|  sólo cumple un rol semántico|\n",
    "|Las tareas requieren división demográfica por región y tipo de educación|**Eliminar Acceso a la educación desagregado por sexo, Logro**|El objetivo no es segregar por edad ni sexo|\n",
    "\n",
    "Subcategorías **si** relacionadas con la tarea 1.\n",
    "  \n",
    "  - \n",
    "\n",
    "Subcategorías **no** relacionadas con la tarea 1.\n",
    "\n",
    " - Acceso a la educación desagregado por sexo, Acceso a la educación\n"
   ]
  },
  {
   "cell_type": "markdown",
   "metadata": {},
   "source": [
    "Eliminar años previos a 2010"
   ]
  },
  {
   "cell_type": "code",
   "execution_count": 21,
   "metadata": {},
   "outputs": [],
   "source": [
    "terridata = terridata[terridata[\"Año\"] >= 2010]"
   ]
  },
  {
   "cell_type": "markdown",
   "metadata": {},
   "source": [
    "Eliminar filas y columnas innecesarias"
   ]
  },
  {
   "cell_type": "code",
   "execution_count": 22,
   "metadata": {},
   "outputs": [],
   "source": [
    "del terridata[\"Dimensión\"]\n",
    "del terridata[\"Mes\"]\n",
    "del terridata[\"Dato Cualitativo\"]\n",
    "del terridata[\"Subcategoría\"]"
   ]
  },
  {
   "cell_type": "markdown",
   "metadata": {},
   "source": [
    "Hallar datos departamentales"
   ]
  },
  {
   "cell_type": "code",
   "execution_count": 42,
   "metadata": {},
   "outputs": [],
   "source": [
    "data_departamental = terridata[(terridata[\"Departamento\"] == terridata[\"Entidad\"]) & (terridata[\"Código Entidad\"] % 1000 == 0)]\n",
    "# la condición del AND es porque existe sucre, sucre, que es municipio (cod 70771)\n",
    "\n",
    "departamentos = data_departamental[\"Código Departamento\"].drop_duplicates(\n",
    ").to_list()\n",
    "\n",
    "anios = terridata[\"Año\"].drop_duplicates().to_list()\n",
    "\n",
    "deptos_map = {}\n",
    "\n",
    "for depto in departamentos:\n",
    "    row = data_departamental[data_departamental[\"Código Departamento\"] == depto].iloc[0]\n",
    "    \n",
    "    deptos_map[depto] = {\n",
    "        \"nombre\": row[\"Departamento\"],\n",
    "        \"codigo\": row[\"Código Departamento\"],\n",
    "        \"codigo_entidad\": row[\"Código Entidad\"],\n",
    "\n",
    "    }\n"
   ]
  },
  {
   "cell_type": "markdown",
   "metadata": {},
   "source": [
    "Hallar datos municipales"
   ]
  },
  {
   "cell_type": "code",
   "execution_count": 24,
   "metadata": {},
   "outputs": [
    {
     "ename": "KeyboardInterrupt",
     "evalue": "",
     "output_type": "error",
     "traceback": [
      "\u001b[1;31m---------------------------------------------------------------------------\u001b[0m",
      "\u001b[1;31mKeyboardInterrupt\u001b[0m                         Traceback (most recent call last)",
      "\u001b[1;32mc:\\Users\\ceroz\\OneDrive - Universidad de los Andes\\ISIS 4822\\Laboratorio 2\\dataProcessing.ipynb Cell 19\u001b[0m in \u001b[0;36m<cell line: 7>\u001b[1;34m()\u001b[0m\n\u001b[0;32m      <a href='vscode-notebook-cell:/c%3A/Users/ceroz/OneDrive%20-%20Universidad%20de%20los%20Andes/ISIS%204822/Laboratorio%202/dataProcessing.ipynb#X24sZmlsZQ%3D%3D?line=4'>5</a>\u001b[0m municipios_map \u001b[39m=\u001b[39m {}\n\u001b[0;32m      <a href='vscode-notebook-cell:/c%3A/Users/ceroz/OneDrive%20-%20Universidad%20de%20los%20Andes/ISIS%204822/Laboratorio%202/dataProcessing.ipynb#X24sZmlsZQ%3D%3D?line=6'>7</a>\u001b[0m \u001b[39mfor\u001b[39;00m municipio \u001b[39min\u001b[39;00m municipios:\n\u001b[1;32m----> <a href='vscode-notebook-cell:/c%3A/Users/ceroz/OneDrive%20-%20Universidad%20de%20los%20Andes/ISIS%204822/Laboratorio%202/dataProcessing.ipynb#X24sZmlsZQ%3D%3D?line=7'>8</a>\u001b[0m     row \u001b[39m=\u001b[39m data_municipal[data_municipal[\u001b[39m\"\u001b[39;49m\u001b[39mCódigo Entidad\u001b[39;49m\u001b[39m\"\u001b[39;49m] \u001b[39m==\u001b[39;49m municipio]\u001b[39m.\u001b[39miloc[\u001b[39m0\u001b[39m]\n\u001b[0;32m     <a href='vscode-notebook-cell:/c%3A/Users/ceroz/OneDrive%20-%20Universidad%20de%20los%20Andes/ISIS%204822/Laboratorio%202/dataProcessing.ipynb#X24sZmlsZQ%3D%3D?line=9'>10</a>\u001b[0m     municipios_map[municipio] \u001b[39m=\u001b[39m {\n\u001b[0;32m     <a href='vscode-notebook-cell:/c%3A/Users/ceroz/OneDrive%20-%20Universidad%20de%20los%20Andes/ISIS%204822/Laboratorio%202/dataProcessing.ipynb#X24sZmlsZQ%3D%3D?line=10'>11</a>\u001b[0m         \u001b[39m\"\u001b[39m\u001b[39mnombre\u001b[39m\u001b[39m\"\u001b[39m: row[\u001b[39m\"\u001b[39m\u001b[39mEntidad\u001b[39m\u001b[39m\"\u001b[39m],\n\u001b[0;32m     <a href='vscode-notebook-cell:/c%3A/Users/ceroz/OneDrive%20-%20Universidad%20de%20los%20Andes/ISIS%204822/Laboratorio%202/dataProcessing.ipynb#X24sZmlsZQ%3D%3D?line=11'>12</a>\u001b[0m         \u001b[39m\"\u001b[39m\u001b[39mcodigo\u001b[39m\u001b[39m\"\u001b[39m: row[\u001b[39m\"\u001b[39m\u001b[39mCódigo Entidad\u001b[39m\u001b[39m\"\u001b[39m],\n\u001b[0;32m     <a href='vscode-notebook-cell:/c%3A/Users/ceroz/OneDrive%20-%20Universidad%20de%20los%20Andes/ISIS%204822/Laboratorio%202/dataProcessing.ipynb#X24sZmlsZQ%3D%3D?line=12'>13</a>\u001b[0m         \u001b[39m\"\u001b[39m\u001b[39mcodigo_departamento\u001b[39m\u001b[39m\"\u001b[39m: row[\u001b[39m\"\u001b[39m\u001b[39mCódigo Departamento\u001b[39m\u001b[39m\"\u001b[39m],\n\u001b[0;32m     <a href='vscode-notebook-cell:/c%3A/Users/ceroz/OneDrive%20-%20Universidad%20de%20los%20Andes/ISIS%204822/Laboratorio%202/dataProcessing.ipynb#X24sZmlsZQ%3D%3D?line=13'>14</a>\u001b[0m         \u001b[39m\"\u001b[39m\u001b[39mnombre_departamento\u001b[39m\u001b[39m\"\u001b[39m: row[\u001b[39m\"\u001b[39m\u001b[39mDepartamento\u001b[39m\u001b[39m\"\u001b[39m]\n\u001b[0;32m     <a href='vscode-notebook-cell:/c%3A/Users/ceroz/OneDrive%20-%20Universidad%20de%20los%20Andes/ISIS%204822/Laboratorio%202/dataProcessing.ipynb#X24sZmlsZQ%3D%3D?line=14'>15</a>\u001b[0m     }\n",
      "File \u001b[1;32m~\\AppData\\Local\\Packages\\PythonSoftwareFoundation.Python.3.10_qbz5n2kfra8p0\\LocalCache\\local-packages\\Python310\\site-packages\\pandas\\core\\ops\\common.py:72\u001b[0m, in \u001b[0;36m_unpack_zerodim_and_defer.<locals>.new_method\u001b[1;34m(self, other)\u001b[0m\n\u001b[0;32m     68\u001b[0m             \u001b[39mreturn\u001b[39;00m \u001b[39mNotImplemented\u001b[39m\n\u001b[0;32m     70\u001b[0m other \u001b[39m=\u001b[39m item_from_zerodim(other)\n\u001b[1;32m---> 72\u001b[0m \u001b[39mreturn\u001b[39;00m method(\u001b[39mself\u001b[39;49m, other)\n",
      "File \u001b[1;32m~\\AppData\\Local\\Packages\\PythonSoftwareFoundation.Python.3.10_qbz5n2kfra8p0\\LocalCache\\local-packages\\Python310\\site-packages\\pandas\\core\\arraylike.py:43\u001b[0m, in \u001b[0;36mOpsMixin.__eq__\u001b[1;34m(self, other)\u001b[0m\n\u001b[0;32m     41\u001b[0m \u001b[39m@unpack_zerodim_and_defer\u001b[39m(\u001b[39m\"\u001b[39m\u001b[39m__eq__\u001b[39m\u001b[39m\"\u001b[39m)\n\u001b[0;32m     42\u001b[0m \u001b[39mdef\u001b[39;00m \u001b[39m__eq__\u001b[39m(\u001b[39mself\u001b[39m, other):\n\u001b[1;32m---> 43\u001b[0m     \u001b[39mreturn\u001b[39;00m \u001b[39mself\u001b[39;49m\u001b[39m.\u001b[39;49m_cmp_method(other, operator\u001b[39m.\u001b[39;49meq)\n",
      "File \u001b[1;32m~\\AppData\\Local\\Packages\\PythonSoftwareFoundation.Python.3.10_qbz5n2kfra8p0\\LocalCache\\local-packages\\Python310\\site-packages\\pandas\\core\\series.py:6246\u001b[0m, in \u001b[0;36mSeries._cmp_method\u001b[1;34m(self, other, op)\u001b[0m\n\u001b[0;32m   6243\u001b[0m rvalues \u001b[39m=\u001b[39m extract_array(other, extract_numpy\u001b[39m=\u001b[39m\u001b[39mTrue\u001b[39;00m, extract_range\u001b[39m=\u001b[39m\u001b[39mTrue\u001b[39;00m)\n\u001b[0;32m   6245\u001b[0m \u001b[39mwith\u001b[39;00m np\u001b[39m.\u001b[39merrstate(\u001b[39mall\u001b[39m\u001b[39m=\u001b[39m\u001b[39m\"\u001b[39m\u001b[39mignore\u001b[39m\u001b[39m\"\u001b[39m):\n\u001b[1;32m-> 6246\u001b[0m     res_values \u001b[39m=\u001b[39m ops\u001b[39m.\u001b[39;49mcomparison_op(lvalues, rvalues, op)\n\u001b[0;32m   6248\u001b[0m \u001b[39mreturn\u001b[39;00m \u001b[39mself\u001b[39m\u001b[39m.\u001b[39m_construct_result(res_values, name\u001b[39m=\u001b[39mres_name)\n",
      "File \u001b[1;32m~\\AppData\\Local\\Packages\\PythonSoftwareFoundation.Python.3.10_qbz5n2kfra8p0\\LocalCache\\local-packages\\Python310\\site-packages\\pandas\\core\\ops\\array_ops.py:290\u001b[0m, in \u001b[0;36mcomparison_op\u001b[1;34m(left, right, op)\u001b[0m\n\u001b[0;32m    287\u001b[0m     res_values \u001b[39m=\u001b[39m comp_method_OBJECT_ARRAY(op, lvalues, rvalues)\n\u001b[0;32m    289\u001b[0m \u001b[39melse\u001b[39;00m:\n\u001b[1;32m--> 290\u001b[0m     res_values \u001b[39m=\u001b[39m _na_arithmetic_op(lvalues, rvalues, op, is_cmp\u001b[39m=\u001b[39;49m\u001b[39mTrue\u001b[39;49;00m)\n\u001b[0;32m    292\u001b[0m \u001b[39mreturn\u001b[39;00m res_values\n",
      "File \u001b[1;32m~\\AppData\\Local\\Packages\\PythonSoftwareFoundation.Python.3.10_qbz5n2kfra8p0\\LocalCache\\local-packages\\Python310\\site-packages\\pandas\\core\\ops\\array_ops.py:165\u001b[0m, in \u001b[0;36m_na_arithmetic_op\u001b[1;34m(left, right, op, is_cmp)\u001b[0m\n\u001b[0;32m    162\u001b[0m     func \u001b[39m=\u001b[39m partial(expressions\u001b[39m.\u001b[39mevaluate, op)\n\u001b[0;32m    164\u001b[0m \u001b[39mtry\u001b[39;00m:\n\u001b[1;32m--> 165\u001b[0m     result \u001b[39m=\u001b[39m func(left, right)\n\u001b[0;32m    166\u001b[0m \u001b[39mexcept\u001b[39;00m \u001b[39mTypeError\u001b[39;00m:\n\u001b[0;32m    167\u001b[0m     \u001b[39mif\u001b[39;00m \u001b[39mnot\u001b[39;00m is_cmp \u001b[39mand\u001b[39;00m (is_object_dtype(left\u001b[39m.\u001b[39mdtype) \u001b[39mor\u001b[39;00m is_object_dtype(right)):\n\u001b[0;32m    168\u001b[0m         \u001b[39m# For object dtype, fallback to a masked operation (only operating\u001b[39;00m\n\u001b[0;32m    169\u001b[0m         \u001b[39m#  on the non-missing values)\u001b[39;00m\n\u001b[0;32m    170\u001b[0m         \u001b[39m# Don't do this for comparisons, as that will handle complex numbers\u001b[39;00m\n\u001b[0;32m    171\u001b[0m         \u001b[39m#  incorrectly, see GH#32047\u001b[39;00m\n",
      "File \u001b[1;32m~\\AppData\\Local\\Packages\\PythonSoftwareFoundation.Python.3.10_qbz5n2kfra8p0\\LocalCache\\local-packages\\Python310\\site-packages\\pandas\\core\\computation\\expressions.py:242\u001b[0m, in \u001b[0;36mevaluate\u001b[1;34m(op, a, b, use_numexpr)\u001b[0m\n\u001b[0;32m    239\u001b[0m \u001b[39mif\u001b[39;00m op_str \u001b[39mis\u001b[39;00m \u001b[39mnot\u001b[39;00m \u001b[39mNone\u001b[39;00m:\n\u001b[0;32m    240\u001b[0m     \u001b[39mif\u001b[39;00m use_numexpr:\n\u001b[0;32m    241\u001b[0m         \u001b[39m# error: \"None\" not callable\u001b[39;00m\n\u001b[1;32m--> 242\u001b[0m         \u001b[39mreturn\u001b[39;00m _evaluate(op, op_str, a, b)  \u001b[39m# type: ignore[misc]\u001b[39;00m\n\u001b[0;32m    243\u001b[0m \u001b[39mreturn\u001b[39;00m _evaluate_standard(op, op_str, a, b)\n",
      "File \u001b[1;32m~\\AppData\\Local\\Packages\\PythonSoftwareFoundation.Python.3.10_qbz5n2kfra8p0\\LocalCache\\local-packages\\Python310\\site-packages\\pandas\\core\\computation\\expressions.py:71\u001b[0m, in \u001b[0;36m_evaluate_standard\u001b[1;34m(op, op_str, a, b)\u001b[0m\n\u001b[0;32m     69\u001b[0m \u001b[39mif\u001b[39;00m _TEST_MODE:\n\u001b[0;32m     70\u001b[0m     _store_test_result(\u001b[39mFalse\u001b[39;00m)\n\u001b[1;32m---> 71\u001b[0m \u001b[39mreturn\u001b[39;00m op(a, b)\n",
      "\u001b[1;31mKeyboardInterrupt\u001b[0m: "
     ]
    }
   ],
   "source": [
    "data_municipal = terridata[(terridata[\"Departamento\"] != terridata[\"Entidad\"]) | (terridata[\"Código Entidad\"] % 1000 != 0)]\n",
    "\n",
    "municipios = data_municipal[\"Código Entidad\"].to_list()\n",
    "\n",
    "municipios_map = {}\n",
    "\n",
    "for municipio in municipios:\n",
    "    row = data_municipal[data_municipal[\"Código Entidad\"] == municipio].iloc[0]\n",
    "    \n",
    "    municipios_map[municipio] = {\n",
    "        \"nombre\": row[\"Entidad\"],\n",
    "        \"codigo\": row[\"Código Entidad\"],\n",
    "        \"codigo_departamento\": row[\"Código Departamento\"],\n",
    "        \"nombre_departamento\": row[\"Departamento\"]\n",
    "    }\n"
   ]
  },
  {
   "cell_type": "code",
   "execution_count": null,
   "metadata": {},
   "outputs": [],
   "source": [
    "json_departamental = pd.read_json('data_departamental.json',encoding='utf-8')\n",
    "json_departamental = transform_datatypes(json_departamental)\n",
    "json_departamental.head()"
   ]
  },
  {
   "cell_type": "code",
   "execution_count": null,
   "metadata": {},
   "outputs": [],
   "source": [
    "indicadores = [\"Cobertura bruta en educación - Total\",\n",
    "               \"Cobertura neta en educación - Total\"]\n",
    "\n",
    "datos_cobertura_bruta_neta = json_departamental.loc[np.where(\n",
    "    json_departamental['Indicador'].isin(indicadores))]\n",
    "\n",
    "keys_to_keep = [\"Código Departamento\", \"Departamento\",\n",
    "                \"Indicador\", \"Año\", \"Dato Numérico\", \"Unidad de Medida\"]\n",
    "\n",
    "for year in list(datos_cobertura_bruta_neta.keys()):\n",
    "    if year not in keys_to_keep:\n",
    "        del datos_cobertura_bruta_neta[year]\n",
    "\n",
    "differenceMap = {anio: {row[\"Código Departamento\"]: {\n",
    "    \"Departamento\": row[\"Departamento\"],\n",
    "    \"Año\": row[\"Año\"],\n",
    "    \"Dato Numérico\": row[\"Dato Numérico\"],\n",
    "    \"Unidad de Medida\": row[\"Unidad de Medida\"]\n",
    "\n",
    "} for row in datos_cobertura_bruta_neta.to_dict(orient=\"index\", into=dict).values()} for anio in anios}\n",
    "\n",
    "\n",
    "for row in datos_cobertura_bruta_neta.to_dict(orient=\"index\", into=dict).values():\n",
    "    if row[\"Indicador\"] == \"Cobertura bruta en educación - Total\":\n",
    "        differenceMap[row[\"Año\"]][row[\"Código Departamento\"]\n",
    "                                  ][\"Cobertura bruta en educación - Total\"] = row[\"Dato Numérico\"]\n",
    "    else:\n",
    "        differenceMap[row[\"Año\"]][row[\"Código Departamento\"]\n",
    "                                  ][\"Cobertura neta en educación - Total\"] = row[\"Dato Numérico\"]\n",
    "\n",
    "min_diff = float(\"inf\")\n",
    "max_diff = float(\"-inf\")\n",
    "\n",
    "for year in differenceMap:\n",
    "    for department in differenceMap[year]:\n",
    "        resta = differenceMap[year][department][\"Cobertura bruta en educación - Total\"] - differenceMap[year][department][\"Cobertura neta en educación - Total\"]\n",
    "        if resta < min_diff:\n",
    "            min_diff = resta\n",
    "        if resta > max_diff:\n",
    "            max_diff = resta\n",
    "        differenceMap[year][department][\"Diferencia\"] =  resta \n",
    "\n",
    "datos_cobertura_bruta_neta = differenceMap\n",
    "\n"
   ]
  },
  {
   "cell_type": "code",
   "execution_count": null,
   "metadata": {},
   "outputs": [],
   "source": [
    "\n",
    "\n",
    "\n",
    "convertedTypes = {converter(year): {converter(department): {key: converter(value) for key, value in datos_cobertura_bruta_neta[year][department].items(\n",
    ")} for department in datos_cobertura_bruta_neta[year]} for year in datos_cobertura_bruta_neta}\n",
    "\n",
    "convertedTypes[\"min\"] = min_diff\n",
    "convertedTypes[\"max\"] = max_diff\n"
   ]
  },
  {
   "cell_type": "markdown",
   "metadata": {},
   "source": [
    "### Tarea 1 - Calidad de educación primaria y secundaria nacional a lo largo del tiempo\n",
    "\n"
   ]
  },
  {
   "cell_type": "markdown",
   "metadata": {},
   "source": [
    "vis1 - linechart\n",
    "\n",
    "item: promedio nacional de puntaje saber 11 en un área determinada (derivado) \n",
    "\n",
    "marca: \n",
    " - puntos unidos con líneas\n",
    "\n",
    "canales: \n",
    " - posición horizontal (año)\n",
    " - posición vertical (puntaje promedio)\n",
    " - color (área de la prueba)\n"
   ]
  },
  {
   "cell_type": "code",
   "execution_count": 52,
   "metadata": {},
   "outputs": [],
   "source": [
    "avgs = {}\n",
    "\n",
    "keys = [\"Puntaje promedio Pruebas Saber 11 - Matemáticas\",\n",
    "        \"Puntaje promedio Pruebas Saber 11 - Lectura crítica\"]\n",
    "\n",
    "jsonobject = {\"data\": avgs, \"min\": float(\"inf\"), \"max\": float(\"-inf\")}\n",
    "for key in keys: \n",
    "  keyavgs = []\n",
    "  for anio in anios:\n",
    "      obj = {\"year\": anio,\n",
    "          \"value\": round(data_departamental.iloc[np.where((data_departamental[\"Año\"] == anio) & (data_departamental[\"Indicador\"] == key))][\"Dato Numérico\"].mean(),3)\n",
    "        }\n",
    "      if obj[\"value\"] < jsonobject[\"min\"]:\n",
    "          jsonobject[\"min\"] = obj[\"value\"]\n",
    "      if obj[\"value\"] > jsonobject[\"max\"]:\n",
    "          jsonobject[\"max\"] = obj[\"value\"]\n",
    "      keyavgs.append(obj)\n",
    "  avgs[key] = keyavgs\n",
    "\n",
    "path = \"data/nacional/nacional_acum_saber11.json\"\n",
    "\n",
    "with open(path, 'w',encoding=\"utf-8\") as outfile:\n",
    "    json.dump(jsonobject, outfile,indent=4, ensure_ascii=False)\n"
   ]
  },
  {
   "cell_type": "markdown",
   "metadata": {},
   "source": [
    "### Tarea 2 - Cobertura de educación por región a lo largo del tiempo"
   ]
  },
  {
   "cell_type": "markdown",
   "metadata": {},
   "source": [
    "vis2 - choropleth\n",
    "\n",
    "idea: mostrar diferencia de cobertura bruta (porque solo es cobertura sin calidad) en educacion total (abarcar todas de una) a lo largo del tiempo\n",
    "\n",
    "item: \n",
    " - \n",
    "marca: \n",
    " - puntos unidos con líneas\n",
    "\n",
    "canales: \n",
    " - posición horizontal (año)\n",
    " - posición vertical (puntaje promedio)\n",
    " - color (área de la prueba)"
   ]
  }
 ],
 "metadata": {
  "kernelspec": {
   "display_name": "Python 3.10.7 64-bit (microsoft store)",
   "language": "python",
   "name": "python3"
  },
  "language_info": {
   "codemirror_mode": {
    "name": "ipython",
    "version": 3
   },
   "file_extension": ".py",
   "mimetype": "text/x-python",
   "name": "python",
   "nbconvert_exporter": "python",
   "pygments_lexer": "ipython3",
   "version": "3.10.7"
  },
  "orig_nbformat": 4,
  "vscode": {
   "interpreter": {
    "hash": "ec009831475692fdaca9261dd780ca7da3c2c311b6d5f01ce2a2a9cfd6be5476"
   }
  }
 },
 "nbformat": 4,
 "nbformat_minor": 2
}
