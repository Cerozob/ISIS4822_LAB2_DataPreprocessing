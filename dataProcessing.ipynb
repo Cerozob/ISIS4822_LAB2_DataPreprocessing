{
 "cells": [
  {
   "cell_type": "markdown",
   "metadata": {},
   "source": [
    "# ISIS 4822 - Laboratorio 2\n",
    "\n",
    "Hernán Cuy - 202010199\n",
    "\n",
    "Camilo Rozo - 201820147\n",
    "\n",
    "---\n",
    "\n",
    "## Preprocesamiento de datos\n",
    "\n",
    "---"
   ]
  },
  {
   "cell_type": "markdown",
   "metadata": {},
   "source": [
    "### Load dataset"
   ]
  },
  {
   "cell_type": "code",
   "execution_count": 9,
   "metadata": {},
   "outputs": [],
   "source": [
    "import pandas as pd\n",
    "import numpy as np\n",
    "from pathlib import Path\n",
    "import json\n",
    "\n",
    "\n",
    "def converter(obj):\n",
    "    if isinstance(obj, np.integer | np.int64 | np.int32 | np.int16 | np.int8):\n",
    "        return int(obj)\n",
    "    elif isinstance(obj, np.floating | np.float64 | np.float32 | np.float16):\n",
    "        return float(obj)\n",
    "    elif isinstance(obj, np.ndarray):\n",
    "        return obj.tolist()\n",
    "    elif isinstance(obj, np.bool_):\n",
    "        return bool(obj)\n",
    "    elif isinstance(obj, np.str_):\n",
    "        return str(obj)\n",
    "    elif isinstance(obj, np.void):\n",
    "        return None\n",
    "    return obj\n",
    "\n",
    "terridata_filename = \"TerriData_Dim4.csv\"\n",
    "\n",
    "data_path = Path('data')\n",
    "\n",
    "sources_path = data_path.joinpath(\"sources\")\n",
    "\n",
    "terridata_path = sources_path.joinpath(terridata_filename)\n",
    "\n",
    "terridata = pd.read_csv(terridata_path,encoding='utf-8')"
   ]
  },
  {
   "cell_type": "markdown",
   "metadata": {},
   "source": [
    "### Typify dataset to JSON-valid values"
   ]
  },
  {
   "cell_type": "code",
   "execution_count": 10,
   "metadata": {},
   "outputs": [],
   "source": [
    "\n",
    "def transform_datatypes(df: pd.DataFrame) -> pd.DataFrame:\n",
    "    df[\"Departamento\"]=df[\"Departamento\"].astype('str') \n",
    "    df[\"Entidad\"]=df[\"Entidad\"].astype('str')\n",
    "    df[\"Dimensión\"]=df[\"Dimensión\"].astype('str')\n",
    "    df[\"Subcategoría\"]=df[\"Subcategoría\"].astype('str') \n",
    "    df[\"Indicador\"]=df[\"Indicador\"].astype('str')\n",
    "    df[\"Dato Numérico\"] = df[\"Dato Numérico\"].apply(lambda x: float(str(x).replace(\",\", \".\")) if x is not None else None)\n",
    "    df[\"Dato Cualitativo\"]=df[\"Dato Cualitativo\"].astype('str')\n",
    "    df[\"Fuente\"]=df[\"Fuente\"].astype('str')\n",
    "    df[\"Unidad de Medida\"]=df[\"Unidad de Medida\"].astype('str') \n",
    "    return df\n",
    "\n",
    "terridata = transform_datatypes(terridata)"
   ]
  },
  {
   "cell_type": "markdown",
   "metadata": {},
   "source": [
    "### View resulting dataset"
   ]
  },
  {
   "cell_type": "code",
   "execution_count": 11,
   "metadata": {},
   "outputs": [
    {
     "name": "stdout",
     "output_type": "stream",
     "text": [
      "<class 'pandas.core.frame.DataFrame'>\n",
      "RangeIndex: 291756 entries, 0 to 291755\n",
      "Data columns (total 13 columns):\n",
      " #   Column               Non-Null Count   Dtype  \n",
      "---  ------               --------------   -----  \n",
      " 0   Código Departamento  291756 non-null  int64  \n",
      " 1   Departamento         291756 non-null  object \n",
      " 2   Código Entidad       291756 non-null  int64  \n",
      " 3   Entidad              291756 non-null  object \n",
      " 4   Dimensión            291756 non-null  object \n",
      " 5   Subcategoría         291756 non-null  object \n",
      " 6   Indicador            291756 non-null  object \n",
      " 7   Dato Numérico        269714 non-null  float64\n",
      " 8   Dato Cualitativo     291756 non-null  object \n",
      " 9   Año                  291756 non-null  int64  \n",
      " 10  Mes                  291756 non-null  int64  \n",
      " 11  Fuente               291756 non-null  object \n",
      " 12  Unidad de Medida     291756 non-null  object \n",
      "dtypes: float64(1), int64(4), object(8)\n",
      "memory usage: 28.9+ MB\n"
     ]
    }
   ],
   "source": [
    "terridata.info()"
   ]
  },
  {
   "cell_type": "code",
   "execution_count": 12,
   "metadata": {},
   "outputs": [
    {
     "data": {
      "text/html": [
       "<div>\n",
       "<style scoped>\n",
       "    .dataframe tbody tr th:only-of-type {\n",
       "        vertical-align: middle;\n",
       "    }\n",
       "\n",
       "    .dataframe tbody tr th {\n",
       "        vertical-align: top;\n",
       "    }\n",
       "\n",
       "    .dataframe thead th {\n",
       "        text-align: right;\n",
       "    }\n",
       "</style>\n",
       "<table border=\"1\" class=\"dataframe\">\n",
       "  <thead>\n",
       "    <tr style=\"text-align: right;\">\n",
       "      <th></th>\n",
       "      <th>Código Departamento</th>\n",
       "      <th>Departamento</th>\n",
       "      <th>Código Entidad</th>\n",
       "      <th>Entidad</th>\n",
       "      <th>Dimensión</th>\n",
       "      <th>Subcategoría</th>\n",
       "      <th>Indicador</th>\n",
       "      <th>Dato Numérico</th>\n",
       "      <th>Dato Cualitativo</th>\n",
       "      <th>Año</th>\n",
       "      <th>Mes</th>\n",
       "      <th>Fuente</th>\n",
       "      <th>Unidad de Medida</th>\n",
       "    </tr>\n",
       "  </thead>\n",
       "  <tbody>\n",
       "    <tr>\n",
       "      <th>0</th>\n",
       "      <td>1</td>\n",
       "      <td>Colombia</td>\n",
       "      <td>1001</td>\n",
       "      <td>Colombia</td>\n",
       "      <td>Educación</td>\n",
       "      <td>Acceso a la educación</td>\n",
       "      <td>Cobertura bruta en transición</td>\n",
       "      <td>95.42</td>\n",
       "      <td>nan</td>\n",
       "      <td>2005</td>\n",
       "      <td>12</td>\n",
       "      <td>Ministerio de Educación Nacional</td>\n",
       "      <td>Porcentaje (el valor está multiplicado por 100)</td>\n",
       "    </tr>\n",
       "    <tr>\n",
       "      <th>1</th>\n",
       "      <td>5</td>\n",
       "      <td>Antioquia</td>\n",
       "      <td>5000</td>\n",
       "      <td>Antioquia</td>\n",
       "      <td>Educación</td>\n",
       "      <td>Acceso a la educación</td>\n",
       "      <td>Cobertura bruta en transición</td>\n",
       "      <td>78.62</td>\n",
       "      <td>nan</td>\n",
       "      <td>2005</td>\n",
       "      <td>12</td>\n",
       "      <td>Ministerio de Educación Nacional</td>\n",
       "      <td>Porcentaje (el valor está multiplicado por 100)</td>\n",
       "    </tr>\n",
       "    <tr>\n",
       "      <th>2</th>\n",
       "      <td>5</td>\n",
       "      <td>Antioquia</td>\n",
       "      <td>5001</td>\n",
       "      <td>Medellín</td>\n",
       "      <td>Educación</td>\n",
       "      <td>Acceso a la educación</td>\n",
       "      <td>Cobertura bruta en transición</td>\n",
       "      <td>103.23</td>\n",
       "      <td>nan</td>\n",
       "      <td>2005</td>\n",
       "      <td>12</td>\n",
       "      <td>Ministerio de Educación Nacional</td>\n",
       "      <td>Porcentaje (el valor está multiplicado por 100)</td>\n",
       "    </tr>\n",
       "    <tr>\n",
       "      <th>3</th>\n",
       "      <td>5</td>\n",
       "      <td>Antioquia</td>\n",
       "      <td>5002</td>\n",
       "      <td>Abejorral</td>\n",
       "      <td>Educación</td>\n",
       "      <td>Acceso a la educación</td>\n",
       "      <td>Cobertura bruta en transición</td>\n",
       "      <td>51.80</td>\n",
       "      <td>nan</td>\n",
       "      <td>2005</td>\n",
       "      <td>12</td>\n",
       "      <td>Ministerio de Educación Nacional</td>\n",
       "      <td>Porcentaje (el valor está multiplicado por 100)</td>\n",
       "    </tr>\n",
       "    <tr>\n",
       "      <th>4</th>\n",
       "      <td>5</td>\n",
       "      <td>Antioquia</td>\n",
       "      <td>5004</td>\n",
       "      <td>Abriaquí</td>\n",
       "      <td>Educación</td>\n",
       "      <td>Acceso a la educación</td>\n",
       "      <td>Cobertura bruta en transición</td>\n",
       "      <td>96.00</td>\n",
       "      <td>nan</td>\n",
       "      <td>2005</td>\n",
       "      <td>12</td>\n",
       "      <td>Ministerio de Educación Nacional</td>\n",
       "      <td>Porcentaje (el valor está multiplicado por 100)</td>\n",
       "    </tr>\n",
       "  </tbody>\n",
       "</table>\n",
       "</div>"
      ],
      "text/plain": [
       "   Código Departamento Departamento  Código Entidad    Entidad  Dimensión  \\\n",
       "0                    1     Colombia            1001   Colombia  Educación   \n",
       "1                    5    Antioquia            5000  Antioquia  Educación   \n",
       "2                    5    Antioquia            5001   Medellín  Educación   \n",
       "3                    5    Antioquia            5002  Abejorral  Educación   \n",
       "4                    5    Antioquia            5004   Abriaquí  Educación   \n",
       "\n",
       "            Subcategoría                      Indicador  Dato Numérico  \\\n",
       "0  Acceso a la educación  Cobertura bruta en transición          95.42   \n",
       "1  Acceso a la educación  Cobertura bruta en transición          78.62   \n",
       "2  Acceso a la educación  Cobertura bruta en transición         103.23   \n",
       "3  Acceso a la educación  Cobertura bruta en transición          51.80   \n",
       "4  Acceso a la educación  Cobertura bruta en transición          96.00   \n",
       "\n",
       "  Dato Cualitativo   Año  Mes                            Fuente  \\\n",
       "0              nan  2005   12  Ministerio de Educación Nacional   \n",
       "1              nan  2005   12  Ministerio de Educación Nacional   \n",
       "2              nan  2005   12  Ministerio de Educación Nacional   \n",
       "3              nan  2005   12  Ministerio de Educación Nacional   \n",
       "4              nan  2005   12  Ministerio de Educación Nacional   \n",
       "\n",
       "                                  Unidad de Medida  \n",
       "0  Porcentaje (el valor está multiplicado por 100)  \n",
       "1  Porcentaje (el valor está multiplicado por 100)  \n",
       "2  Porcentaje (el valor está multiplicado por 100)  \n",
       "3  Porcentaje (el valor está multiplicado por 100)  \n",
       "4  Porcentaje (el valor está multiplicado por 100)  "
      ]
     },
     "execution_count": 12,
     "metadata": {},
     "output_type": "execute_result"
    }
   ],
   "source": [
    "terridata.head()"
   ]
  },
  {
   "cell_type": "markdown",
   "metadata": {},
   "source": [
    "### Process the dataset according to the tasks"
   ]
  },
  {
   "cell_type": "markdown",
   "metadata": {},
   "source": [
    "_\"El Ministerio de Educación quiere utilizar estos datos para verificar la evolución de la calidad de la educación primaria y secundaria en el país en los últimos 12 años e identificar las regiones geográficas con mayor cobertura e incidencia de la educación en estos mismos periodos.\"_"
   ]
  },
  {
   "cell_type": "markdown",
   "metadata": {},
   "source": [
    "Tareas identificadas:\n",
    "\n",
    "1. verificar la evolución de la calidad de la educación primaria y secundaria en el país en los últimos 12 años.\n",
    "2. identificar las regiones geográficas con mayor cobertura e incidencia de la educación en estos mismos periodos.\n",
    "\n",
    "|Observación|Acción|Justificación|\n",
    "|:---|:---|:---|\n",
    "|Período de los últimos 12 años|**Eliminar** años previos a **2010** |La información no será usada para ninguna tarea |\n",
    "|Un objetivo es ver cobertura|**Conservar** indicadores relacionados a la subcategoría **\"Acceso a la educación\"**|Muy probablemente la visualización usará estos datos|\n",
    "|Ambos objetivos hacen énfasis en geografía |**Dividir** el dataset por **territorio** en lugar de subcategorías e indicadores |Visualizar información a nivel país y a nivel regional requiere segregación territorial|\n",
    "|La temporalidad es anual|**Eliminar Mes**|no es necesario|\n",
    "|El dataset tiene una única dimensión|**Eliminar Dimensión**| no es necesaria por tener un único valor|\n",
    "|Las métricas son numéricas|**Eliminar Dato Cualitativo**|no es necesaria por tener un único valor|\n",
    "|Los indicadores dan toda la información necesaria sobre el dato|**Eliminar Subcategoría**|  sólo cumple un rol semántico|\n",
    "|Las tareas requieren división demográfica por región y tipo de educación|**Eliminar Acceso a la educación desagregado por sexo, Logro**|El objetivo no es segregar por edad ni sexo|\n",
    "\n",
    "Subcategorías **si** relacionadas con la tarea 1.\n",
    "  \n",
    "  - \n",
    "\n",
    "Subcategorías **no** relacionadas con la tarea 1.\n",
    "\n",
    " - Acceso a la educación desagregado por sexo, Acceso a la educación\n"
   ]
  },
  {
   "cell_type": "markdown",
   "metadata": {},
   "source": [
    "Eliminar años previos a 2010"
   ]
  },
  {
   "cell_type": "code",
   "execution_count": 13,
   "metadata": {},
   "outputs": [],
   "source": [
    "terridata = terridata[terridata[\"Año\"] >= 2010]"
   ]
  },
  {
   "cell_type": "markdown",
   "metadata": {},
   "source": [
    "Eliminar filas y columnas innecesarias"
   ]
  },
  {
   "cell_type": "code",
   "execution_count": 14,
   "metadata": {},
   "outputs": [],
   "source": [
    "del terridata[\"Dimensión\"]\n",
    "del terridata[\"Mes\"]\n",
    "del terridata[\"Dato Cualitativo\"]\n",
    "del terridata[\"Subcategoría\"]"
   ]
  },
  {
   "cell_type": "markdown",
   "metadata": {},
   "source": [
    "Hallar datos departamentales"
   ]
  },
  {
   "cell_type": "code",
   "execution_count": 17,
   "metadata": {},
   "outputs": [],
   "source": [
    "data_departamental = terridata[(terridata[\"Departamento\"] == terridata[\"Entidad\"]) & ( (terridata[\"Código Entidad\"] % 1000 == 0) | (terridata[\"Código Entidad\"] == 11001) )]\n",
    "# la condición del AND es porque existe sucre, sucre, que es municipio (cod 70771)\n",
    "\n",
    "departamentos = data_departamental[\"Código Departamento\"].drop_duplicates(\n",
    ").to_list()\n",
    "\n",
    "anios = terridata[\"Año\"].drop_duplicates().to_list()\n",
    "\n",
    "deptos_map = {}\n",
    "\n",
    "for depto in departamentos:\n",
    "    row = data_departamental[data_departamental[\"Código Departamento\"] == depto].iloc[0]\n",
    "    \n",
    "    deptos_map[depto] = {\n",
    "        \"nombre\": row[\"Departamento\"],\n",
    "        \"codigo\": row[\"Código Departamento\"],\n",
    "        \"codigo_entidad\": row[\"Código Entidad\"],\n",
    "\n",
    "    }\n"
   ]
  },
  {
   "cell_type": "markdown",
   "metadata": {},
   "source": [
    "Hallar datos municipales"
   ]
  },
  {
   "cell_type": "code",
   "execution_count": 30,
   "metadata": {},
   "outputs": [],
   "source": [
    "# Calcular geojsons municipales por departamento\n",
    "with open(sources_path.joinpath(\"MGN_ANM_MPIOS.geojson\"),encoding=\"utf-8\") as geojson:\n",
    "    municipaldata = json.load(geojson)\n",
    "\n",
    "municipios_por_depto = { depto: [] for depto in departamentos }\n",
    "\n",
    "for feature in municipaldata[\"features\"]:\n",
    "    codigo_depto = int(feature[\"properties\"][\"DPTO_CCDGO\"])\n",
    "    municipios_por_depto[codigo_depto].append(feature)\n",
    "\n",
    "# Guardar como geojsons independientes\n",
    "for depto in departamentos:\n",
    "    deptometa = deptos_map[depto]\n",
    "    depto_data = {\n",
    "        \"type\": \"FeatureCollection\",\n",
    "        \"properties\": deptometa,\n",
    "        \"features\": municipios_por_depto[depto]\n",
    "    }\n",
    "    with open(data_path.joinpath(\"departamental\", f\"{depto}_{deptometa['nombre']}_municipios.geojson\"), \"w\", encoding=\"utf-8\") as geojson:\n",
    "        json.dump(depto_data, geojson, default=converter,\n",
    "                  indent=4, ensure_ascii=False)\n",
    "    "
   ]
  },
  {
   "cell_type": "code",
   "execution_count": 31,
   "metadata": {},
   "outputs": [],
   "source": [
    "data_municipal = terridata[(terridata[\"Departamento\"] != terridata[\"Entidad\"]) | (terridata[\"Código Entidad\"] % 1000 != 0)]\n",
    "\n",
    "municipios = data_municipal[\"Código Entidad\"].drop_duplicates().to_list()\n",
    "\n",
    "municipios_map = {}\n",
    "\n",
    "for municipio in municipios:\n",
    "    row = data_municipal[data_municipal[\"Código Entidad\"] == municipio].iloc[0]\n",
    "    \n",
    "    municipios_map[municipio] = {\n",
    "        \"nombre\": row[\"Entidad\"],\n",
    "        \"codigo\": row[\"Código Entidad\"],\n",
    "        \"codigo_departamento\": row[\"Código Departamento\"],\n",
    "        \"nombre_departamento\": row[\"Departamento\"]\n",
    "    }\n"
   ]
  },
  {
   "cell_type": "code",
   "execution_count": null,
   "metadata": {},
   "outputs": [],
   "source": [
    "json_departamental = pd.read_json('data_departamental.json',encoding='utf-8')\n",
    "json_departamental = transform_datatypes(json_departamental)\n",
    "json_departamental.head()"
   ]
  },
  {
   "cell_type": "code",
   "execution_count": null,
   "metadata": {},
   "outputs": [],
   "source": [
    "indicadores = [\"Cobertura bruta en educación - Total\",\n",
    "               \"Cobertura neta en educación - Total\"]\n",
    "\n",
    "datos_cobertura_bruta_neta = json_departamental.loc[np.where(\n",
    "    json_departamental['Indicador'].isin(indicadores))]\n",
    "\n",
    "keys_to_keep = [\"Código Departamento\", \"Departamento\",\n",
    "                \"Indicador\", \"Año\", \"Dato Numérico\", \"Unidad de Medida\"]\n",
    "\n",
    "for year in list(datos_cobertura_bruta_neta.keys()):\n",
    "    if year not in keys_to_keep:\n",
    "        del datos_cobertura_bruta_neta[year]\n",
    "\n",
    "differenceMap = {anio: {row[\"Código Departamento\"]: {\n",
    "    \"Departamento\": row[\"Departamento\"],\n",
    "    \"Año\": row[\"Año\"],\n",
    "    \"Dato Numérico\": row[\"Dato Numérico\"],\n",
    "    \"Unidad de Medida\": row[\"Unidad de Medida\"]\n",
    "\n",
    "} for row in datos_cobertura_bruta_neta.to_dict(orient=\"index\", into=dict).values()} for anio in anios}\n",
    "\n",
    "\n",
    "for row in datos_cobertura_bruta_neta.to_dict(orient=\"index\", into=dict).values():\n",
    "    if row[\"Indicador\"] == \"Cobertura bruta en educación - Total\":\n",
    "        differenceMap[row[\"Año\"]][row[\"Código Departamento\"]\n",
    "                                  ][\"Cobertura bruta en educación - Total\"] = row[\"Dato Numérico\"]\n",
    "    else:\n",
    "        differenceMap[row[\"Año\"]][row[\"Código Departamento\"]\n",
    "                                  ][\"Cobertura neta en educación - Total\"] = row[\"Dato Numérico\"]\n",
    "\n",
    "min_diff = float(\"inf\")\n",
    "max_diff = float(\"-inf\")\n",
    "\n",
    "for year in differenceMap:\n",
    "    for department in differenceMap[year]:\n",
    "        resta = differenceMap[year][department][\"Cobertura bruta en educación - Total\"] - differenceMap[year][department][\"Cobertura neta en educación - Total\"]\n",
    "        if resta < min_diff:\n",
    "            min_diff = resta\n",
    "        if resta > max_diff:\n",
    "            max_diff = resta\n",
    "        differenceMap[year][department][\"Diferencia\"] =  resta \n",
    "\n",
    "datos_cobertura_bruta_neta = differenceMap\n",
    "\n"
   ]
  },
  {
   "cell_type": "code",
   "execution_count": null,
   "metadata": {},
   "outputs": [],
   "source": [
    "\n",
    "\n",
    "\n",
    "convertedTypes = {converter(year): {converter(department): {key: converter(value) for key, value in datos_cobertura_bruta_neta[year][department].items(\n",
    ")} for department in datos_cobertura_bruta_neta[year]} for year in datos_cobertura_bruta_neta}\n",
    "\n",
    "convertedTypes[\"min\"] = min_diff\n",
    "convertedTypes[\"max\"] = max_diff\n"
   ]
  },
  {
   "cell_type": "markdown",
   "metadata": {},
   "source": [
    "### Tarea 1 - Calidad de educación primaria y secundaria nacional a lo largo del tiempo\n",
    "\n"
   ]
  },
  {
   "cell_type": "markdown",
   "metadata": {},
   "source": [
    "vis1 - linechart\n",
    "\n",
    "item: promedio nacional de puntaje saber 11 en un área determinada (derivado) \n",
    "\n",
    "marca: \n",
    " - puntos unidos con líneas\n",
    "\n",
    "canales: \n",
    " - posición horizontal (año)\n",
    " - posición vertical (puntaje promedio)\n",
    " - color (área de la prueba)\n"
   ]
  },
  {
   "cell_type": "code",
   "execution_count": 52,
   "metadata": {},
   "outputs": [],
   "source": [
    "avgs = {}\n",
    "\n",
    "keys = [\"Puntaje promedio Pruebas Saber 11 - Matemáticas\",\n",
    "        \"Puntaje promedio Pruebas Saber 11 - Lectura crítica\"]\n",
    "\n",
    "jsonobject = {\"data\": avgs, \"min\": float(\"inf\"), \"max\": float(\"-inf\")}\n",
    "for key in keys: \n",
    "  keyavgs = []\n",
    "  for anio in anios:\n",
    "      obj = {\"year\": anio,\n",
    "          \"value\": round(data_departamental.iloc[np.where((data_departamental[\"Año\"] == anio) & (data_departamental[\"Indicador\"] == key))][\"Dato Numérico\"].mean(),3)\n",
    "        }\n",
    "      if obj[\"value\"] < jsonobject[\"min\"]:\n",
    "          jsonobject[\"min\"] = obj[\"value\"]\n",
    "      if obj[\"value\"] > jsonobject[\"max\"]:\n",
    "          jsonobject[\"max\"] = obj[\"value\"]\n",
    "      keyavgs.append(obj)\n",
    "  avgs[key] = keyavgs\n",
    "\n",
    "path = \"data/nacional/nacional_acum_saber11.json\"\n",
    "\n",
    "with open(path, 'w',encoding=\"utf-8\") as outfile:\n",
    "    json.dump(jsonobject, outfile,indent=4, ensure_ascii=False)\n"
   ]
  },
  {
   "cell_type": "markdown",
   "metadata": {},
   "source": [
    "### Tarea 2 - Cobertura de educación por región a lo largo del tiempo"
   ]
  },
  {
   "cell_type": "markdown",
   "metadata": {},
   "source": [
    "vis2 - choropleth\n",
    "\n",
    "idea: mostrar diferencia de cobertura bruta (porque solo es cobertura sin calidad) en educacion total (abarcar todas de una) a lo largo del tiempo\n",
    "\n",
    "item: \n",
    " - \n",
    "marca: \n",
    " - puntos unidos con líneas\n",
    "\n",
    "canales: \n",
    " - posición horizontal (año)\n",
    " - posición vertical (puntaje promedio)\n",
    " - color (área de la prueba)"
   ]
  }
 ],
 "metadata": {
  "kernelspec": {
   "display_name": "Python 3.10.7 64-bit (microsoft store)",
   "language": "python",
   "name": "python3"
  },
  "language_info": {
   "codemirror_mode": {
    "name": "ipython",
    "version": 3
   },
   "file_extension": ".py",
   "mimetype": "text/x-python",
   "name": "python",
   "nbconvert_exporter": "python",
   "pygments_lexer": "ipython3",
   "version": "3.10.7"
  },
  "orig_nbformat": 4,
  "vscode": {
   "interpreter": {
    "hash": "ec009831475692fdaca9261dd780ca7da3c2c311b6d5f01ce2a2a9cfd6be5476"
   }
  }
 },
 "nbformat": 4,
 "nbformat_minor": 2
}
